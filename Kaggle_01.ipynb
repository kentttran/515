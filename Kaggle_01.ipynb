{
  "nbformat": 4,
  "nbformat_minor": 0,
  "metadata": {
    "colab": {
      "provenance": [],
      "authorship_tag": "ABX9TyMF/ZaQTyDCMkgWZUaxbiyk",
      "include_colab_link": true
    },
    "kernelspec": {
      "name": "python3",
      "display_name": "Python 3"
    },
    "language_info": {
      "name": "python"
    }
  },
  "cells": [
    {
      "cell_type": "markdown",
      "metadata": {
        "id": "view-in-github",
        "colab_type": "text"
      },
      "source": [
        "<a href=\"https://colab.research.google.com/github/kentttran/515/blob/main/Kaggle_01.ipynb\" target=\"_parent\"><img src=\"https://colab.research.google.com/assets/colab-badge.svg\" alt=\"Open In Colab\"/></a>"
      ]
    },
    {
      "cell_type": "markdown",
      "source": [
        "In this project, the initial objective was to analyze the \"top-spotify-songs-2023\" dataset downloaded from Kaggle, which contained information about Spotify songs, including attributes such as track name, artist name, release date, key, mode, and more. The majority of the difficulties I ran across involved loading and analyzing data. Upon encountering some initial challenges with the dataset, I looked into other ways to retrieve the data from Google Drive. Following the dataset's successful loading, I addressed encoding and formatting problems to make sure the dataset was correctly read and examined.\n",
        "\n",
        "I used Python and the Pandas module to find the song with the most streams, the most and least utilized keys, and the most used mode. I took pertinent data out of the DataFrame and set the proper encoding for the dataset. I announced the track title and artist for this record after determining which song had received the most streams. I calculated the mode and key statistics for the key and mode analysis.\n",
        "\n",
        "Since the method was mainly concerned with data loading and initial analysis, it didn't include dividing the data into train and test sets or error metrics. When working with real-world datasets, the most important lessons to be learned from this study are the value of data cleansing, encoding concerns, and data exploration. In larger data science projects, importing and formatting data correctly is essential for further data analysis and model creation."
      ],
      "metadata": {
        "id": "4Z9d1b3FRCzI"
      }
    },
    {
      "cell_type": "code",
      "source": [
        "import pandas as pd\n",
        "\n",
        "# Specify the correct file path\n",
        "file_path = \"/content/drive/MyDrive/spotify-2023.csv\"\n",
        "\n",
        "# Load the dataset with the specified encoding (if necessary)\n",
        "df = pd.read_csv(file_path, encoding='ISO-8859-1')\n",
        "\n",
        "# Find the song with the highest number of streams\n",
        "highest_streams = df[df['streams'] == df['streams'].max()]\n",
        "\n",
        "# Select and display only the track name and artist\n",
        "highest_track_name = highest_streams['track_name'].values[0]\n",
        "highest_artist_name = highest_streams['artist(s)_name'].values[0]\n",
        "\n",
        "print(f\"Song with the highest number of streams: {highest_track_name} by {highest_artist_name}\")\n",
        "\n",
        "# Find the most and least used keys\n",
        "most_used_key = df['key'].mode().values[0]\n",
        "least_used_key = df['key'].value_counts().idxmin()\n",
        "\n",
        "# Determine whether major or minor mode was used the most\n",
        "most_used_mode = df['mode'].mode().values[0]\n",
        "\n",
        "print(f\"The most used key is {most_used_key} and the least used key is {least_used_key}.\")\n",
        "print(f\"The most used mode is {most_used_mode}.\")\n"
      ],
      "metadata": {
        "colab": {
          "base_uri": "https://localhost:8080/"
        },
        "id": "hCgCCK7RQ8Gq",
        "outputId": "9f772677-58e6-44cc-e58f-1212586d8227"
      },
      "execution_count": null,
      "outputs": [
        {
          "output_type": "stream",
          "name": "stdout",
          "text": [
            "Song with the highest number of streams: Love Grows (Where My Rosemary Goes) by Edison Lighthouse\n",
            "The most used key is C# and the least used key is D#.\n",
            "The most used mode is Major.\n"
          ]
        }
      ]
    }
  ]
}